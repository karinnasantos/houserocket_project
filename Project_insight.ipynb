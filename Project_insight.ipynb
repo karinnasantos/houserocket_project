{
 "cells": [
  {
   "cell_type": "markdown",
   "metadata": {},
   "source": [
    "# 1. Bibliotecas/Pacotes"
   ]
  },
  {
   "cell_type": "code",
   "execution_count": 3,
   "metadata": {},
   "outputs": [
    {
     "ename": "ValueError",
     "evalue": "Columns must be same length as key",
     "output_type": "error",
     "traceback": [
      "\u001b[1;31m---------------------------------------------------------------------------\u001b[0m",
      "\u001b[1;31mValueError\u001b[0m                                Traceback (most recent call last)",
      "\u001b[1;32m~\\AppData\\Local\\Temp/ipykernel_7404/3974838733.py\u001b[0m in \u001b[0;36m<module>\u001b[1;34m\u001b[0m\n\u001b[0;32m     67\u001b[0m     \u001b[0mdata\u001b[0m \u001b[1;33m=\u001b[0m \u001b[0mget_data\u001b[0m\u001b[1;33m(\u001b[0m\u001b[0mpath\u001b[0m\u001b[1;33m)\u001b[0m\u001b[1;33m\u001b[0m\u001b[1;33m\u001b[0m\u001b[0m\n\u001b[0;32m     68\u001b[0m \u001b[1;33m\u001b[0m\u001b[0m\n\u001b[1;32m---> 69\u001b[1;33m     \u001b[0minitial_features\u001b[0m\u001b[1;33m(\u001b[0m\u001b[0mdata\u001b[0m\u001b[1;33m)\u001b[0m\u001b[1;33m\u001b[0m\u001b[1;33m\u001b[0m\u001b[0m\n\u001b[0m\u001b[0;32m     70\u001b[0m     \u001b[0mnew_features\u001b[0m\u001b[1;33m(\u001b[0m\u001b[0mdata\u001b[0m\u001b[1;33m)\u001b[0m\u001b[1;33m\u001b[0m\u001b[1;33m\u001b[0m\u001b[0m\n\u001b[0;32m     71\u001b[0m     \u001b[0mdescritivas\u001b[0m\u001b[1;33m(\u001b[0m\u001b[0mdata\u001b[0m\u001b[1;33m)\u001b[0m\u001b[1;33m\u001b[0m\u001b[1;33m\u001b[0m\u001b[0m\n",
      "\u001b[1;32m~\\AppData\\Local\\Temp/ipykernel_7404/3974838733.py\u001b[0m in \u001b[0;36minitial_features\u001b[1;34m(data)\u001b[0m\n\u001b[0;32m     13\u001b[0m \u001b[1;32mdef\u001b[0m \u001b[0minitial_features\u001b[0m \u001b[1;33m(\u001b[0m\u001b[0mdata\u001b[0m\u001b[1;33m)\u001b[0m\u001b[1;33m:\u001b[0m\u001b[1;33m\u001b[0m\u001b[1;33m\u001b[0m\u001b[0m\n\u001b[0;32m     14\u001b[0m     \u001b[0mdata\u001b[0m\u001b[1;33m[\u001b[0m\u001b[1;34m'date'\u001b[0m\u001b[1;33m]\u001b[0m \u001b[1;33m=\u001b[0m \u001b[0mpd\u001b[0m\u001b[1;33m.\u001b[0m\u001b[0mto_datetime\u001b[0m\u001b[1;33m(\u001b[0m \u001b[0mdata\u001b[0m\u001b[1;33m[\u001b[0m\u001b[1;34m'date'\u001b[0m\u001b[1;33m]\u001b[0m \u001b[1;33m)\u001b[0m\u001b[1;33m\u001b[0m\u001b[1;33m\u001b[0m\u001b[0m\n\u001b[1;32m---> 15\u001b[1;33m     \u001b[0mdata\u001b[0m\u001b[1;33m[\u001b[0m\u001b[1;34m'date'\u001b[0m\u001b[1;33m]\u001b[0m \u001b[1;33m=\u001b[0m \u001b[0mdata\u001b[0m\u001b[1;33m.\u001b[0m\u001b[0mdrop_duplicates\u001b[0m\u001b[1;33m(\u001b[0m\u001b[0msubset\u001b[0m \u001b[1;33m=\u001b[0m \u001b[1;33m[\u001b[0m\u001b[1;34m'id'\u001b[0m\u001b[1;33m]\u001b[0m\u001b[1;33m,\u001b[0m \u001b[0mkeep\u001b[0m \u001b[1;33m=\u001b[0m \u001b[1;34m'last'\u001b[0m\u001b[1;33m)\u001b[0m\u001b[1;33m\u001b[0m\u001b[1;33m\u001b[0m\u001b[0m\n\u001b[0m\u001b[0;32m     16\u001b[0m     \u001b[0mdata\u001b[0m\u001b[1;33m.\u001b[0m\u001b[0mloc\u001b[0m\u001b[1;33m[\u001b[0m\u001b[0mdata\u001b[0m\u001b[1;33m[\u001b[0m\u001b[1;34m'bedrooms'\u001b[0m\u001b[1;33m]\u001b[0m \u001b[1;33m==\u001b[0m \u001b[1;36m33\u001b[0m\u001b[1;33m,\u001b[0m \u001b[1;34m'bedrooms'\u001b[0m\u001b[1;33m]\u001b[0m \u001b[1;33m=\u001b[0m \u001b[1;36m3\u001b[0m\u001b[1;33m\u001b[0m\u001b[1;33m\u001b[0m\u001b[0m\n\u001b[0;32m     17\u001b[0m     \u001b[1;32mreturn\u001b[0m \u001b[0mdata\u001b[0m\u001b[1;33m\u001b[0m\u001b[1;33m\u001b[0m\u001b[0m\n",
      "\u001b[1;32m~\\anaconda3\\lib\\site-packages\\pandas\\core\\frame.py\u001b[0m in \u001b[0;36m__setitem__\u001b[1;34m(self, key, value)\u001b[0m\n\u001b[0;32m   3600\u001b[0m             \u001b[0mself\u001b[0m\u001b[1;33m.\u001b[0m\u001b[0m_setitem_array\u001b[0m\u001b[1;33m(\u001b[0m\u001b[0mkey\u001b[0m\u001b[1;33m,\u001b[0m \u001b[0mvalue\u001b[0m\u001b[1;33m)\u001b[0m\u001b[1;33m\u001b[0m\u001b[1;33m\u001b[0m\u001b[0m\n\u001b[0;32m   3601\u001b[0m         \u001b[1;32melif\u001b[0m \u001b[0misinstance\u001b[0m\u001b[1;33m(\u001b[0m\u001b[0mvalue\u001b[0m\u001b[1;33m,\u001b[0m \u001b[0mDataFrame\u001b[0m\u001b[1;33m)\u001b[0m\u001b[1;33m:\u001b[0m\u001b[1;33m\u001b[0m\u001b[1;33m\u001b[0m\u001b[0m\n\u001b[1;32m-> 3602\u001b[1;33m             \u001b[0mself\u001b[0m\u001b[1;33m.\u001b[0m\u001b[0m_set_item_frame_value\u001b[0m\u001b[1;33m(\u001b[0m\u001b[0mkey\u001b[0m\u001b[1;33m,\u001b[0m \u001b[0mvalue\u001b[0m\u001b[1;33m)\u001b[0m\u001b[1;33m\u001b[0m\u001b[1;33m\u001b[0m\u001b[0m\n\u001b[0m\u001b[0;32m   3603\u001b[0m         elif (\n\u001b[0;32m   3604\u001b[0m             \u001b[0mis_list_like\u001b[0m\u001b[1;33m(\u001b[0m\u001b[0mvalue\u001b[0m\u001b[1;33m)\u001b[0m\u001b[1;33m\u001b[0m\u001b[1;33m\u001b[0m\u001b[0m\n",
      "\u001b[1;32m~\\anaconda3\\lib\\site-packages\\pandas\\core\\frame.py\u001b[0m in \u001b[0;36m_set_item_frame_value\u001b[1;34m(self, key, value)\u001b[0m\n\u001b[0;32m   3727\u001b[0m             \u001b[0mlen_cols\u001b[0m \u001b[1;33m=\u001b[0m \u001b[1;36m1\u001b[0m \u001b[1;32mif\u001b[0m \u001b[0mis_scalar\u001b[0m\u001b[1;33m(\u001b[0m\u001b[0mcols\u001b[0m\u001b[1;33m)\u001b[0m \u001b[1;32melse\u001b[0m \u001b[0mlen\u001b[0m\u001b[1;33m(\u001b[0m\u001b[0mcols\u001b[0m\u001b[1;33m)\u001b[0m\u001b[1;33m\u001b[0m\u001b[1;33m\u001b[0m\u001b[0m\n\u001b[0;32m   3728\u001b[0m             \u001b[1;32mif\u001b[0m \u001b[0mlen_cols\u001b[0m \u001b[1;33m!=\u001b[0m \u001b[0mlen\u001b[0m\u001b[1;33m(\u001b[0m\u001b[0mvalue\u001b[0m\u001b[1;33m.\u001b[0m\u001b[0mcolumns\u001b[0m\u001b[1;33m)\u001b[0m\u001b[1;33m:\u001b[0m\u001b[1;33m\u001b[0m\u001b[1;33m\u001b[0m\u001b[0m\n\u001b[1;32m-> 3729\u001b[1;33m                 \u001b[1;32mraise\u001b[0m \u001b[0mValueError\u001b[0m\u001b[1;33m(\u001b[0m\u001b[1;34m\"Columns must be same length as key\"\u001b[0m\u001b[1;33m)\u001b[0m\u001b[1;33m\u001b[0m\u001b[1;33m\u001b[0m\u001b[0m\n\u001b[0m\u001b[0;32m   3730\u001b[0m \u001b[1;33m\u001b[0m\u001b[0m\n\u001b[0;32m   3731\u001b[0m             \u001b[1;31m# align right-hand-side columns if self.columns\u001b[0m\u001b[1;33m\u001b[0m\u001b[1;33m\u001b[0m\u001b[0m\n",
      "\u001b[1;31mValueError\u001b[0m: Columns must be same length as key"
     ]
    }
   ],
   "source": [
    "import numpy  as np\n",
    "import pandas as pd\n",
    "import seaborn as sns\n",
    "from tabulate import tabulate\n",
    "\n",
    "from matplotlib import pyplot as plt\n",
    "import plotly.express as px\n",
    "\n",
    "def get_data(path):\n",
    "    data = pd.read_csv(path)\n",
    "    return data\n",
    "\n",
    "def initial_features (data):\n",
    "    data['date'] = pd.to_datetime( data['date'] )\n",
    "    data['date'] = data.drop_duplicates(subset = ['id'], keep = 'last')\n",
    "    data.loc[data['bedrooms'] == 33, 'bedrooms'] = 3\n",
    "    return data\n",
    "\n",
    "def new_features (data):\n",
    "    #Incluindo somente variáveis numéricas\n",
    "    num_atributos = data.select_dtypes(include = ['int64', 'float64'])\n",
    "    #deletando a coluna 'ID'\n",
    "    num_atributos = num_atributos.iloc[:, 1: ]\n",
    "    # Medidas de tendência central:\n",
    "    data_mean =  pd.DataFrame(num_atributos.apply(np.mean)).T\n",
    "    data_median = pd.DataFrame(num_atributos.apply(np.median)).T\n",
    "    # Medidas de dispersão\n",
    "    std = pd.DataFrame( num_atributos.apply( np.std ) ).T\n",
    "    max_ = pd.DataFrame( num_atributos.apply( np.max ) ).T\n",
    "    min_ = pd.DataFrame( num_atributos.apply( np.min ) ).T\n",
    "    # Concatenando as medidas geradas\n",
    "    df = pd.concat( [data_mean, data_median, std, max_, min_ ]).T.reset_index()\n",
    "    # Alterando o nome das colunas\n",
    "    df.columns = [ 'atributos','media', 'mediana', 'std', 'min', 'max']\n",
    "    print(df)\n",
    "    return data\n",
    "\n",
    "def  descritivas (data):\n",
    "    data['year_construc'] = data['yr_built'].apply(lambda x: \"1930 - 1955\" if x < 1955 else \"1955 - 2015\") \n",
    "\n",
    "    data['andares'] = data['floors'] .apply(lambda x: '2 or less' if x <= 2 else 'more than 3')\n",
    "\n",
    "    data['boa_vista'] = data['view'].apply(lambda x: 'Boa' if x == 3 else \n",
    "                                                     'Boa para ruim')\n",
    "\n",
    "    data['basement'] = data['sqft_basement'].apply(lambda x: \"Imóveis com porão\" if x > 0 else \"Imóveis sem porão\")                                                  \n",
    "\n",
    "    data['renovacao'] = data['yr_renovated'].apply(lambda x: 'sim' if x > 0 else\n",
    "                                                            'nao'   )\n",
    "\n",
    "    data['quartos'] = data['bedrooms'].apply(lambda x: 'sim' if x <= 3\n",
    "                                                      else 'não')                                                        \n",
    "\n",
    "    data['mes'] = data['date'].dt.month\n",
    "    data['ano'] = data['date'].dt.year\n",
    "\n",
    "    data['quarto'] = data['bedrooms'].apply(lambda x: \"Mais de 3 quartos\" if x > 3 else \"Menos de três quartos\") \n",
    "\n",
    "    data['season'] = data['mes'].apply(lambda x: 'summer' if (x > 5) & (x < 8) else\n",
    "                                               'spring' if (x > 2) & (x < 5) else\n",
    "                                               'fall' if (x > 8) & (x < 12) else\n",
    "                                               'winter') \n",
    "    return data\n",
    "\n",
    "if __name__ == \"__main__\":\n",
    "    path = 'kc_house_data.csv'\n",
    "    data = get_data(path)\n",
    "    \n",
    "    initial_features(data)\n",
    "    new_features(data)\n",
    "    descritivas(data)\n",
    "    \n"
   ]
  },
  {
   "cell_type": "markdown",
   "metadata": {},
   "source": [
    "1.1 Funções Auxiliares"
   ]
  },
  {
   "cell_type": "code",
   "execution_count": null,
   "metadata": {},
   "outputs": [],
   "source": [
    "np.set_printoptions(suppress=True)\n",
    "pd.set_option('display.float_format', '{:.2f}'.format)"
   ]
  },
  {
   "cell_type": "markdown",
   "metadata": {},
   "source": [
    "# 2. Extração e vizualização de dados"
   ]
  },
  {
   "cell_type": "code",
   "execution_count": null,
   "metadata": {},
   "outputs": [],
   "source": []
  },
  {
   "cell_type": "code",
   "execution_count": null,
   "metadata": {},
   "outputs": [],
   "source": [
    "# Dimensão dos dados\n",
    "print( 'Number of Rows:{}'.format( data.shape[0] ) )\n",
    "print( 'Number of Columns {}'.format( data.shape[1] ) )"
   ]
  },
  {
   "cell_type": "code",
   "execution_count": null,
   "metadata": {},
   "outputs": [],
   "source": [
    "# Tipos de variáveis\n",
    "data.dtypes"
   ]
  },
  {
   "cell_type": "markdown",
   "metadata": {},
   "source": [
    "# 4. Transformação de dados"
   ]
  },
  {
   "cell_type": "code",
   "execution_count": null,
   "metadata": {},
   "outputs": [],
   "source": []
  },
  {
   "cell_type": "markdown",
   "metadata": {},
   "source": [
    "# 5. Análise descritiva"
   ]
  },
  {
   "cell_type": "code",
   "execution_count": null,
   "metadata": {},
   "outputs": [],
   "source": []
  },
  {
   "cell_type": "markdown",
   "metadata": {},
   "source": [
    "- Criação de novos atributos"
   ]
  },
  {
   "cell_type": "code",
   "execution_count": null,
   "metadata": {},
   "outputs": [],
   "source": []
  },
  {
   "cell_type": "markdown",
   "metadata": {},
   "source": [
    "# 6. Limpeza de dados"
   ]
  },
  {
   "cell_type": "code",
   "execution_count": null,
   "metadata": {},
   "outputs": [],
   "source": [
    "\n",
    "\n",
    "\n"
   ]
  },
  {
   "cell_type": "markdown",
   "metadata": {},
   "source": [
    "# 7. Exploração dos dados"
   ]
  },
  {
   "cell_type": "markdown",
   "metadata": {},
   "source": [
    "4.1 inserir um gráfico aqui, Ray usou correlação. O que devo usar? Para visualizar meus dados?"
   ]
  },
  {
   "cell_type": "markdown",
   "metadata": {},
   "source": [
    "# 8. Insights"
   ]
  },
  {
   "cell_type": "markdown",
   "metadata": {},
   "source": [
    "Hipótese 1:  Imóveis com vista para a água são em média 30% mais caros"
   ]
  },
  {
   "cell_type": "code",
   "execution_count": null,
   "metadata": {},
   "outputs": [],
   "source": [
    "data = data.copy()\n",
    "\n",
    "h1 = data[['price', 'waterfront']].groupby('waterfront').mean().reset_index()\n",
    "h1['percentage'] = h1['price'].pct_change()*100\n",
    "\n",
    "if h1.loc[1, 'percentage'] > 30:\n",
    "    print('A hipótese é verdadeira')\n",
    "\n",
    "else:\n",
    "    print('A hipótese é falsa')\n",
    "\n",
    "# Plotando a figura\n",
    "sns.set_style(\"ticks\")\n",
    "fig = sns.barplot(x = 'waterfront',\n",
    "            y = 'price',\n",
    "            data = h1,\n",
    "            palette = \"magma\")\n",
    "# Show the plot\n",
    "# add label to the axis and label to the plot\n",
    "\n",
    "fig.set(xlabel =\" \", ylabel = \"Preço\", title ='Hipótese 1',\n",
    "xticklabels=[\"Casas sem vista para a água\", \"Casas com vista para a água\"])\n",
    "plt.show()"
   ]
  },
  {
   "cell_type": "markdown",
   "metadata": {},
   "source": [
    "Hipótese 2: Imóveis construídos antes de 1955 são 50% mais baratos, na média"
   ]
  },
  {
   "cell_type": "code",
   "execution_count": null,
   "metadata": {},
   "outputs": [],
   "source": [
    "h2 = data[['year_construc', 'price']].groupby('year_construc').mean().reset_index()\n",
    "h2['porcentagem'] = h2['price'].pct_change()*100\n",
    "\n",
    "if h2.loc[1, 'porcentagem'] > 50:\n",
    "        print('A hipótese é verdadeira')\n",
    "else:\n",
    "        print('A hipótese é falsa')\n",
    "\n",
    "# Plotando a figura\n",
    "sns.set_style(\"ticks\")\n",
    "fig2 = sns.barplot(x = 'year_construc',\n",
    "            y = 'price',\n",
    "            data = h2,\n",
    "            palette = \"magma\")\n",
    "fig2.set(xlabel =\"Anos de construção\", ylabel = \"Preço\", title ='Hipótese 2',\n",
    "xticklabels=[\"1930-1975\", \"1975-2015\"])\n",
    "plt.show()"
   ]
  },
  {
   "cell_type": "markdown",
   "metadata": {},
   "source": [
    "Hipótese 3: Imóveis sem porão possuem área total 40% maior que os imóveis com porão"
   ]
  },
  {
   "cell_type": "code",
   "execution_count": null,
   "metadata": {},
   "outputs": [],
   "source": [
    "h3 = data[['basement', 'sqft_lot']].groupby('basement').mean().reset_index()\n",
    "h3['porcentagem'] = h3['sqft_lot'].pct_change()*100\n",
    "\n",
    "if h3.loc[1, 'porcentagem'] > 40:\n",
    "        print('A hipótese é verdadeira')\n",
    "else:\n",
    "        print('A hipótese é falsa')\n",
    "\n",
    "# Plotando a figura\n",
    "sns.set_style(\"ticks\")\n",
    "fig3 = sns.barplot(x = 'basement',\n",
    "            y = 'sqft_lot',\n",
    "            data = h3,\n",
    "            palette = \"magma\")\n",
    "fig3.set(xlabel =\" \", ylabel = \"Área total\", title ='Hipótese 3',\n",
    "xticklabels=[\"Imóveis com porão\", \"Imóveis sem porão\"])\n",
    "plt.show()"
   ]
  },
  {
   "cell_type": "markdown",
   "metadata": {},
   "source": [
    "Hipótese 4:  O crescimento do preço dos imóveis ano após ano (YoY) é de 10%"
   ]
  },
  {
   "cell_type": "code",
   "execution_count": null,
   "metadata": {},
   "outputs": [],
   "source": [
    "h4 = data.copy()\n",
    "h4['Year'] = h4['date'].dt.strftime('%Y')\n",
    "h4 = h4[['Year', 'price']].groupby('Year').mean().reset_index()\n",
    "h4['porcentagem'] = h4['price'].pct_change()*100\n",
    "\n",
    "if h4.loc[1, 'porcentagem'] > 10:\n",
    "        print('A hipótese é verdadeira')\n",
    "else:\n",
    "        print('A hipótese é falsa')\n",
    "\n",
    "# Plotando a figura\n",
    "sns.set_style(\"ticks\")\n",
    "fig4 = sns.barplot(x = 'Year',\n",
    "            y = 'price',\n",
    "            data = h4,\n",
    "            palette = \"magma\")\n",
    "fig4.set(xlabel =\"Anos\", ylabel = \"Preço\", title ='Hipótese 4',\n",
    "xticklabels=[\"2014\", \"2015\"])\n",
    "plt.show()"
   ]
  },
  {
   "cell_type": "markdown",
   "metadata": {},
   "source": [
    "Hipótese 5: Imóveis com 3 banheiros tem um crescimento de MoM de 15%"
   ]
  },
  {
   "cell_type": "code",
   "execution_count": null,
   "metadata": {},
   "outputs": [],
   "source": [
    "h5 = data.loc[data['bathrooms'] == 3].copy()\n",
    "h5['mes'] = h5['date'].dt.strftime('%Y-%m')\n",
    "h5 = h5[['mes', 'price']].groupby('mes').mean().reset_index()\n",
    "h5['porcentagem'] = h5['price'].pct_change()*100\n",
    "h5['pct'] = h5['porcentagem'].apply(lambda x: 'Verdadeira' if x > 0 else 'Falsa')\n",
    "\n",
    "plt.rcParams['figure.figsize'] = [ 20, 10 ]\n",
    "sns.set_context('notebook')\n",
    "sns.lineplot(x = \"mes\", y = \"price\",data=h5, err_style=\"bars\")\n",
    "plt.show()"
   ]
  },
  {
   "cell_type": "markdown",
   "metadata": {},
   "source": [
    "Hipótese 6: Imóveis com dois andares ou menos, são 40% mais baratos"
   ]
  },
  {
   "cell_type": "code",
   "execution_count": null,
   "metadata": {},
   "outputs": [],
   "source": [
    "h6 = data[['andares', 'price']].groupby('andares').mean().reset_index()\n",
    "h6['porcetagem'] = h6['price'].pct_change()*100\n",
    "\n",
    "if h6.loc[1, 'porcetagem'] < 40:\n",
    "    print('A hipótese é verdadeira')\n",
    "else: \n",
    "    print('A hipótese é falsa')\n",
    "\n",
    "# Plotando a figura\n",
    "sns.set_style(\"ticks\")\n",
    "fig6 = sns.barplot(x = 'andares',\n",
    "            y = 'price',\n",
    "            data = h6,\n",
    "            palette = \"magma\")\n",
    "fig6.set(xlabel =\"Número de andares\", ylabel = \"Preço\", title ='Hipótese 6')\n",
    "plt.show()"
   ]
  },
  {
   "cell_type": "markdown",
   "metadata": {},
   "source": [
    "Hipótese 7: Imóveis não reformados são 35% mais baratos"
   ]
  },
  {
   "cell_type": "code",
   "execution_count": null,
   "metadata": {},
   "outputs": [],
   "source": [
    "h7 = data[data['condition'] == 1]\n",
    "h7 = data[['price', 'renovacao']].groupby('renovacao').sum().reset_index()\n",
    "h7['porcetagem'] = h7['price'].pct_change()*100\n",
    "\n",
    "if h7.loc[1, 'porcetagem'] < 35:\n",
    "    print('A hipótese é verdadeira')\n",
    "else: \n",
    "    print('A hipótese é falsa')\n",
    "\n",
    "# Plotando a figura\n",
    "sns.set_style(\"ticks\")\n",
    "fig7 = sns.barplot(x = 'renovacao',\n",
    "            y = 'price',\n",
    "            data = h7,\n",
    "            palette = \"magma\")\n",
    "fig7.set(xlabel =\" \", ylabel = \"Preço\", title ='Hipótese 7')\n",
    "plt.show()"
   ]
  },
  {
   "cell_type": "markdown",
   "metadata": {},
   "source": [
    "Hipótese 8: Imóveis com melhores vistas são 25% mais caros"
   ]
  },
  {
   "cell_type": "code",
   "execution_count": null,
   "metadata": {},
   "outputs": [],
   "source": [
    "h8 = data[['boa_vista', 'price']].groupby('boa_vista').mean().reset_index()\n",
    "h8['porcentagem'] = h8['price'].pct_change()*-100\n",
    "\n",
    "if h8.loc[1, 'porcentagem'] > 25:\n",
    "    print('A hipótese é verdadeira')\n",
    "else: \n",
    "    print('A hipótese é falsa')\n",
    "\n",
    "# Plotando a figura\n",
    "sns.set_style(\"ticks\")\n",
    "fig8 = sns.barplot(x = 'boa_vista',\n",
    "            y = 'price',\n",
    "            data = h8,\n",
    "            palette = \"magma\")\n",
    "fig8.set(xlabel =\" \", ylabel = \"Preço\", title ='Hipótese 8')\n",
    "plt.show()"
   ]
  },
  {
   "cell_type": "markdown",
   "metadata": {},
   "source": [
    "Hipótese 9: Imóveis com menos de três quartos são 15% mais baratos"
   ]
  },
  {
   "cell_type": "code",
   "execution_count": null,
   "metadata": {},
   "outputs": [],
   "source": [
    "h9 = data[['quartos', 'price']].groupby('quartos').mean().reset_index()\n",
    "h9['porcentagem'] = h8['price'].pct_change()*-100\n",
    "\n",
    "if h9.loc[1, 'porcentagem'] < 15:\n",
    "    print('A hipótese é verdadeira')\n",
    "else: \n",
    "    print('A hipótese é falsa')\n",
    "\n",
    "# Plotando a figura\n",
    "sns.set_style(\"ticks\")\n",
    "fig9 = sns.barplot(x = 'quartos',\n",
    "            y = 'price',\n",
    "            data = h9,\n",
    "            palette = \"magma\")\n",
    "fig9.set(xlabel =\"Mais de três quartos\", ylabel = \"Preço\", title ='Hipótese 9')\n",
    "plt.show()"
   ]
  },
  {
   "cell_type": "markdown",
   "metadata": {},
   "source": [
    "Hipótese 10: Imóveis com mais de três quatros tem área total 15% maior que os imóveis com menos de três quatros"
   ]
  },
  {
   "cell_type": "code",
   "execution_count": null,
   "metadata": {},
   "outputs": [],
   "source": [
    "h10 = data[['quarto', 'sqft_lot']].groupby('quarto').mean().reset_index()\n",
    "h10['porcentagem'] = h10['sqft_lot'].pct_change()*-100\n",
    "\n",
    "if h10.loc[1, 'porcentagem'] > 15:\n",
    "        print('A hipótese é verdadeira')\n",
    "else:\n",
    "        print('A hipótese é falsa')\n",
    "\n",
    "# Plotando a figura\n",
    "sns.set_style(\"ticks\")\n",
    "fig10 = sns.barplot(x = 'quarto',\n",
    "            y = 'sqft_lot',\n",
    "            data = h10,\n",
    "            palette = \"magma\")\n",
    "fig10.set(xlabel =\" \", ylabel = \"Área total\", title ='Hipótese 10')\n",
    "plt.show()"
   ]
  },
  {
   "cell_type": "code",
   "execution_count": null,
   "metadata": {},
   "outputs": [],
   "source": [
    "if h3.loc[1, 'porcentagem'] > 40:\n",
    "        print('A hipótese é verdadeira')\n",
    "else:\n",
    "        print('A hipótese é falsa')\n",
    "\n",
    "# Plotando a figura\n",
    "sns.set_style(\"ticks\")\n",
    "fig3 = sns.barplot(x = 'basement',\n",
    "            y = 'sqft_lot',\n",
    "            data = h3,\n",
    "            palette = \"magma\")\n",
    "fig3.set(xlabel =\" \", ylabel = \"Área total\", title ='Hipótese 3',\n",
    "xticklabels=[\"Imóveis com porão\", \"Imóveis sem porão\"])\n",
    "plt.show()"
   ]
  },
  {
   "cell_type": "code",
   "execution_count": null,
   "metadata": {},
   "outputs": [],
   "source": [
    "data['basement'] = data['sqft_basement'].apply(lambda x: \"Imóveis com porão\" if x > 0 else \"Imóveis sem porão\") \n",
    "h3 = data[['basement', 'sqft_lot']].groupby('basement').mean().reset_index()\n",
    "h3['porcentagem'] = h3['sqft_lot'].pct_change()*100"
   ]
  },
  {
   "cell_type": "markdown",
   "metadata": {},
   "source": [
    "# 9. Questões de negócio"
   ]
  },
  {
   "cell_type": "markdown",
   "metadata": {},
   "source": [
    "1 - Quais são os negócios que a House Rocket deveria comprar e por qual preço?"
   ]
  },
  {
   "cell_type": "code",
   "execution_count": null,
   "metadata": {},
   "outputs": [],
   "source": [
    "df1 = data.copy()\n",
    "\n",
    "median_price = df1[['zipcode', 'price']].groupby('zipcode').median().reset_index()\n",
    "date2 = pd.merge(median_price, df1, on='zipcode', how = 'inner')\n",
    "\n",
    "date2 = date2.rename(columns = {'price_y' : 'price', 'price_x' : 'median_price'} ) \n",
    "\n",
    "\n",
    "for i in range(len(date2)):\n",
    "    if ((date2.loc[i, 'price'] < date2.loc[i, 'median_price']) \n",
    "        & (date2.loc[i, 'condition'] >= 3)):\n",
    "         date2.loc[i,'buy'] =  'Recomendado'\n",
    "    else:\n",
    "        date2.loc[i, 'buy'] = 'Não'\n",
    "\n",
    "#Casas para comprar\n",
    "comprar = date2[date2['buy'] == 'Recomendado']\n",
    "\n",
    "comprar['buy'].shape[0]\n",
    "comprar[['id', 'price', 'buy']]"
   ]
  },
  {
   "cell_type": "markdown",
   "metadata": {},
   "source": [
    "2- Uma vez comprado, qual é o melhor momento para vendê-lo e por qual preço?"
   ]
  },
  {
   "cell_type": "code",
   "execution_count": null,
   "metadata": {},
   "outputs": [],
   "source": [
    "date3 = date2.copy()\n",
    "\n",
    "date3 = date3[date3['buy'] == 'Recomendado']\n",
    "\n",
    "date4 = date3[['season', 'zipcode', 'price']].groupby(['zipcode', 'season']).median().reset_index()\n",
    "\n",
    "date5 = date4.rename(columns = {'price' : 'price_medi_season', 'season': 'season_median'} ) \n",
    "\n",
    "date6 = pd.merge(date4, date5, on='zipcode', how = 'inner')\n",
    "\n",
    "for i, row in date6.iterrows():\n",
    "    if (row['price_medi_season'] > row['price']):\n",
    "        date6.loc[i, 'sale'] =  row['price'] * 1.1\n",
    "    else:\n",
    "        date6.loc[i, 'sale'] = row['price'] * 1.3\n",
    "\n",
    "# Plotando a figura\n",
    "sns.set_style(\"ticks\")\n",
    "fig = sns.barplot(x = 'season',\n",
    "            y = 'sale',\n",
    "            data = date6,\n",
    "            palette = \"magma\")\n",
    "# Show the plot\n",
    "# add label to the axis and label to the plot\n",
    "\n",
    "fig.set(xlabel =\"Season\", ylabel = \"Sale\", title ='Best time to sell the property')\n",
    "plt.show()"
   ]
  },
  {
   "cell_type": "markdown",
   "metadata": {},
   "source": [
    "- Resultado do negócio - Lucro para a empresa"
   ]
  },
  {
   "cell_type": "code",
   "execution_count": null,
   "metadata": {},
   "outputs": [],
   "source": [
    "date6 ['lucro'] = date6['sale'] - date6['price']\n",
    "date6['lucro'].sum()"
   ]
  },
  {
   "cell_type": "code",
   "execution_count": null,
   "metadata": {},
   "outputs": [],
   "source": [
    "values = [['Hipótese','Parecer','Explicação'],\n",
    "['H1','Verdadeira','Imóveis com vista para água são mais caros'],\n",
    "['H2','Falsa','Imóveis com data de construção não afeta o preço'],\n",
    "['H3','Verdadeira','Imóveis sem porão possuem maior área total e são mais caros'],\n",
    "['H4','Verdadeira','Imóveis sem reforma são mais baratos'],\n",
    "['H5','Falsa','Imóveis com más condições e com vista ruim são mais caros'],\n",
    "['H6','Verdadeira','Imóveis com menos andares são mais baratos'],\n",
    "['H7','Verdadeira','Imóveis que não foram reformados são mais baratos'],\n",
    "['H8','Verdadeira','Imóveis com melhores vistas são mais caroa'],\n",
    "['H9','Falsa', 'Os imóveis  com menos de três quartos não são mais baratos' ],\n",
    "['H10','Verdadeira','Imóveis com mais de três quartos tem área total maior']\n",
    "\n",
    " \n",
    " ]\n",
    "\n",
    "print(tabulate (values, headers = 'firstrow'))"
   ]
  }
 ],
 "metadata": {
  "kernelspec": {
   "display_name": "Python 3 (ipykernel)",
   "language": "python",
   "name": "python3"
  },
  "language_info": {
   "codemirror_mode": {
    "name": "ipython",
    "version": 3
   },
   "file_extension": ".py",
   "mimetype": "text/x-python",
   "name": "python",
   "nbconvert_exporter": "python",
   "pygments_lexer": "ipython3",
   "version": "3.9.7"
  },
  "vscode": {
   "interpreter": {
    "hash": "766568d83e092ecd35cdf18982c132f1ee87ef0006df54a16b8f578edffe8f3c"
   }
  }
 },
 "nbformat": 4,
 "nbformat_minor": 2
}
